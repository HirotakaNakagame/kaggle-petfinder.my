{
 "cells": [
  {
   "cell_type": "code",
   "execution_count": 2,
   "id": "885958d7",
   "metadata": {},
   "outputs": [],
   "source": [
    "import os\n",
    "import random\n",
    "\n",
    "import numpy as np # linear algebra\n",
    "import pandas as pd # data processing, CSV file I/O (e.g. pd.read_csv)\n",
    "import lightgbm as lgb\n",
    "import tensorflow as tf\n",
    "from tensorflow.keras import Sequential,Model\n",
    "from tensorflow.keras.layers import Dense,Conv2D,Flatten,Dropout, Input, Concatenate, BatchNormalization\n",
    "from tensorflow.keras.callbacks import EarlyStopping,ReduceLROnPlateau\n",
    "from tensorflow.keras.optimizers.schedules import ExponentialDecay\n",
    "from PIL import Image\n",
    "from sklearn.model_selection import train_test_split\n",
    "import matplotlib.pyplot as plt"
   ]
  },
  {
   "cell_type": "code",
   "execution_count": 6,
   "id": "0f3991d1",
   "metadata": {},
   "outputs": [],
   "source": [
    "# Constants\n",
    "\n",
    "AUTOTUNE = tf.data.experimental.AUTOTUNE  \n",
    "img_size = 224\n",
    "channels = 3\n",
    "Batch_size = 64\n",
    "\n",
    "# Directory for dataset\n",
    "\n",
    "train_dir = r\"C:\\projects\\kaggle\\PetFinder.my\\data\\train\"\n",
    "test_dir = r\"C:\\projects\\kaggle\\PetFinder.my\\data\\test\"\n",
    "\n",
    "def seed_everything():\n",
    "    np.random.seed(123)\n",
    "    random.seed(123)\n",
    "    tf.random.set_seed(123)\n",
    "    os.environ[\"TF_CPP_MIN_LOG_LEVEL\"] = '2'\n",
    "    os.environ['PYTHONHASHSEED'] = str(123)\n",
    "\n",
    "seed_everything()"
   ]
  },
  {
   "cell_type": "code",
   "execution_count": 8,
   "id": "089bb6d2",
   "metadata": {},
   "outputs": [],
   "source": [
    "# Reading dataset train, test in df and df_test respectively\n",
    "\n",
    "df = pd.read_csv(r\"C:\\projects\\kaggle\\PetFinder.my\\data/train.csv\")\n",
    "df_test = pd.read_csv(r\"C:\\projects\\kaggle\\PetFinder.my\\data\\test.csv\")\n",
    "Id = df_test[\"Id\"].copy()"
   ]
  },
  {
   "cell_type": "code",
   "execution_count": 9,
   "id": "bd17e3c9",
   "metadata": {},
   "outputs": [],
   "source": [
    "df[\"Id\"] = df[\"Id\"].apply(lambda x : r\"C:\\projects\\kaggle\\PetFinder.my\\data\\train/\" + x + \".jpg\")\n",
    "df_test[\"Id\"] = df_test[\"Id\"].apply(lambda x : r\"C:\\projects\\kaggle\\PetFinder.my\\data\\train/\" + x + \".jpg\")"
   ]
  },
  {
   "cell_type": "code",
   "execution_count": 10,
   "id": "d109340b",
   "metadata": {},
   "outputs": [],
   "source": [
    "# Defining functions for reading and augmentation of images\n",
    "# A seperate function for creating dataset\n",
    "\n",
    "# Augmenting the image\n",
    "def image_preprocess(is_labelled):  \n",
    "    def augment(image):\n",
    "        image = tf.image.random_flip_left_right(image)\n",
    "#         image = tf.image.random_flip_up_down(image)\n",
    "        image = tf.image.random_saturation(image, 0.95, 1.05)\n",
    "        image = tf.image.random_contrast(image, 0.95, 1.05)\n",
    "        return image\n",
    "    \n",
    "    def can_be_augmented(img, label):\n",
    "        return augment(img), label\n",
    "    \n",
    "#   If record has label both image and lable will be returned\n",
    "    return can_be_augmented if is_labelled else augment"
   ]
  },
  {
   "cell_type": "code",
   "execution_count": 11,
   "id": "94a61bce",
   "metadata": {},
   "outputs": [],
   "source": [
    "# Reading and rescaling images\n",
    "def image_read(is_labelled):\n",
    "    def decode(path):\n",
    "        image = tf.io.read_file(path)\n",
    "        image = tf.image.decode_jpeg(image, channels=channels)\n",
    "        image = tf.cast(image, tf.float32)\n",
    "        image = tf.image.resize(image, (img_size, img_size))\n",
    "        image = tf.keras.applications.efficientnet.preprocess_input(image) \n",
    "        return image\n",
    "    \n",
    "    def can_be_decoded(path, label):\n",
    "        return decode(path), label\n",
    "    \n",
    "#   If record has label both image and lable will be returned\n",
    "\n",
    "    return can_be_decoded if is_labelled else decode"
   ]
  },
  {
   "cell_type": "code",
   "execution_count": 12,
   "id": "32e64f85",
   "metadata": {},
   "outputs": [],
   "source": [
    "# Creating the dataset\n",
    "def create_dataset(df, batch_size, is_labelled = False, augment = False, shuffle = False):\n",
    "    image_read_fn = image_read(is_labelled)\n",
    "    image_preprocess_fn = image_preprocess(is_labelled)\n",
    "    \n",
    "    if is_labelled:\n",
    "        dataset = tf.data.Dataset.from_tensor_slices((df[\"Id\"].values, df[\"Pawpularity\"].values))\n",
    "    else:\n",
    "        dataset = tf.data.Dataset.from_tensor_slices((df[\"Id\"].values))\n",
    "    \n",
    "    dataset = dataset.map(image_read_fn, num_parallel_calls=AUTOTUNE)\n",
    "    dataset = dataset.map(image_preprocess_fn, num_parallel_calls=AUTOTUNE) if augment else dataset\n",
    "    dataset = dataset.shuffle(1024, reshuffle_each_iteration=True) if shuffle else dataset\n",
    "    dataset = dataset.batch(batch_size)\n",
    "    dataset = dataset.prefetch(AUTOTUNE)\n",
    "    return dataset"
   ]
  },
  {
   "cell_type": "code",
   "execution_count": 13,
   "id": "d32175b2",
   "metadata": {},
   "outputs": [],
   "source": [
    "# Defining train, validation and test set \n",
    "\n",
    "trn = df.iloc[:9000]\n",
    "val = df.iloc[9001:]\n",
    "\n",
    "train = create_dataset(trn, Batch_size, is_labelled = True, augment = True, shuffle = True)\n",
    "validation = create_dataset(val, Batch_size, is_labelled = True, augment = False, shuffle = False)\n",
    "test = create_dataset(df_test, Batch_size, is_labelled = False, augment = False, shuffle=False)"
   ]
  },
  {
   "cell_type": "code",
   "execution_count": 15,
   "id": "f53481d7",
   "metadata": {},
   "outputs": [],
   "source": [
    "from tensorflow.keras.applications import *"
   ]
  },
  {
   "cell_type": "code",
   "execution_count": 17,
   "id": "743e52e1",
   "metadata": {},
   "outputs": [
    {
     "name": "stdout",
     "output_type": "stream",
     "text": [
      "Downloading data from https://storage.googleapis.com/keras-applications/efficientnetb6_notop.h5\n",
      "165240832/165234480 [==============================] - 25s 0us/step\n",
      "165249024/165234480 [==============================] - 25s 0us/step\n"
     ]
    }
   ],
   "source": [
    "conv_base = EfficientNetB6(weights=\"imagenet\", include_top=False, input_shape=(224, 224, 3))"
   ]
  },
  {
   "cell_type": "code",
   "execution_count": 23,
   "id": "aeae97b9",
   "metadata": {},
   "outputs": [
    {
     "data": {
      "text/plain": [
       "224"
      ]
     },
     "execution_count": 23,
     "metadata": {},
     "output_type": "execute_result"
    }
   ],
   "source": [
    "img_size"
   ]
  },
  {
   "cell_type": "code",
   "execution_count": 24,
   "id": "ea29a8fa",
   "metadata": {},
   "outputs": [],
   "source": [
    "# model = Sequential([\n",
    "#     Input(shape=(img_size, img_size, channels)),\n",
    "#     conv_base,\n",
    "#     BatchNormalization(),\n",
    "#     Dropout(0.2),\n",
    "#     Dense(units = 64, activation=\"relu\"),\n",
    "#     Dense(units = 1, activation=\"relu\")\n",
    "# ])"
   ]
  },
  {
   "cell_type": "code",
   "execution_count": 25,
   "id": "dd341bd3",
   "metadata": {},
   "outputs": [
    {
     "name": "stdout",
     "output_type": "stream",
     "text": [
      "Downloading data from https://storage.googleapis.com/keras-applications/efficientnetb7_notop.h5\n",
      "258080768/258076736 [==============================] - 50s 0us/step\n",
      "258088960/258076736 [==============================] - 50s 0us/step\n"
     ]
    }
   ],
   "source": [
    "base_model = tf.keras.applications.EfficientNetB7(\n",
    "    include_top=False\n",
    ")\n",
    "\n",
    "base_model.trainable=False\n",
    "\n",
    "inputs = tf.keras.layers.Input(shape=(224, 224, 3), name=\"input_layer\")\n",
    "\n",
    "# x = tf.keras.layers.experimental.preprocessing.Rescaling(1./255)(inputs)\n",
    "\n",
    "x = base_model(inputs)"
   ]
  },
  {
   "cell_type": "code",
   "execution_count": 26,
   "id": "8b999d7c",
   "metadata": {},
   "outputs": [
    {
     "name": "stdout",
     "output_type": "stream",
     "text": [
      "(None, 2560)\n"
     ]
    }
   ],
   "source": [
    "x = tf.keras.layers.GlobalAveragePooling2D(name=\"global_average_pooling_layer\")(x)\n",
    "\n",
    "print(x.shape)"
   ]
  },
  {
   "cell_type": "code",
   "execution_count": 27,
   "id": "7f77092c",
   "metadata": {},
   "outputs": [],
   "source": [
    "outputs = tf.keras.layers.Dense(1, activation=\"relu\")(x)"
   ]
  },
  {
   "cell_type": "code",
   "execution_count": 28,
   "id": "d18cae48",
   "metadata": {},
   "outputs": [],
   "source": [
    "model = tf.keras.Model(inputs, outputs)"
   ]
  },
  {
   "cell_type": "code",
   "execution_count": 29,
   "id": "cacfd435",
   "metadata": {},
   "outputs": [
    {
     "name": "stdout",
     "output_type": "stream",
     "text": [
      "Model: \"model\"\n",
      "_________________________________________________________________\n",
      "Layer (type)                 Output Shape              Param #   \n",
      "=================================================================\n",
      "input_layer (InputLayer)     [(None, 224, 224, 3)]     0         \n",
      "_________________________________________________________________\n",
      "efficientnetb7 (Functional)  (None, None, None, 2560)  64097687  \n",
      "_________________________________________________________________\n",
      "global_average_pooling_layer (None, 2560)              0         \n",
      "_________________________________________________________________\n",
      "dense_2 (Dense)              (None, 1)                 2561      \n",
      "=================================================================\n",
      "Total params: 64,100,248\n",
      "Trainable params: 2,561\n",
      "Non-trainable params: 64,097,687\n",
      "_________________________________________________________________\n"
     ]
    }
   ],
   "source": [
    "model.summary()"
   ]
  },
  {
   "cell_type": "code",
   "execution_count": 30,
   "id": "0dafd234",
   "metadata": {},
   "outputs": [],
   "source": [
    "early_stopping = EarlyStopping(patience = 5,restore_best_weights=True)\n",
    "\n",
    "\n",
    "lr_schedule = ExponentialDecay(\n",
    "    initial_learning_rate=1e-3,\n",
    "    decay_steps=100, decay_rate=0.96,\n",
    "    staircase=True)"
   ]
  },
  {
   "cell_type": "code",
   "execution_count": null,
   "id": "c8167c33",
   "metadata": {},
   "outputs": [
    {
     "name": "stdout",
     "output_type": "stream",
     "text": [
      "Epoch 1/20\n",
      "141/141 [==============================] - 2587s 18s/step - loss: 1352.2517 - root_mean_squared_error: 36.7730 - val_loss: 943.7531 - val_root_mean_squared_error: 30.7206\n",
      "Epoch 2/20\n",
      " 67/141 [=============>................] - ETA: 18:32 - loss: 869.5314 - root_mean_squared_error: 29.4878"
     ]
    }
   ],
   "source": [
    "model.compile(loss=\"mse\", \n",
    "              optimizer = tf.keras.optimizers.Adam(learning_rate = lr_schedule), \n",
    "              metrics=[tf.keras.metrics.RootMeanSquaredError()])\n",
    "\n",
    "predictor = model.fit(train,\n",
    "                      epochs=20, \n",
    "                      validation_data = validation,\n",
    "                      callbacks=[early_stopping])"
   ]
  },
  {
   "cell_type": "code",
   "execution_count": null,
   "id": "50397667",
   "metadata": {},
   "outputs": [],
   "source": [
    "pred = model.predict(test)\n",
    "\n",
    "final=pd.DataFrame()\n",
    "final['Id']=Id\n",
    "final['Pawpularity']=pred\n",
    "final.to_csv(r\"C:\\projects\\kaggle\\PetFinder.my\\data\\submission.csv\",index=False)"
   ]
  }
 ],
 "metadata": {
  "kernelspec": {
   "display_name": "Python 3",
   "language": "python",
   "name": "python3"
  },
  "language_info": {
   "codemirror_mode": {
    "name": "ipython",
    "version": 3
   },
   "file_extension": ".py",
   "mimetype": "text/x-python",
   "name": "python",
   "nbconvert_exporter": "python",
   "pygments_lexer": "ipython3",
   "version": "3.6.7"
  }
 },
 "nbformat": 4,
 "nbformat_minor": 5
}
